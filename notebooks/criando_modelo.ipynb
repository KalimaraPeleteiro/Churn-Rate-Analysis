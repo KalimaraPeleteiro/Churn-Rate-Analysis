{
 "cells": [
  {
   "cell_type": "markdown",
   "metadata": {},
   "source": [
    "# Criando o Modelo de Machine Learning"
   ]
  },
  {
   "cell_type": "code",
   "execution_count": 139,
   "metadata": {},
   "outputs": [],
   "source": [
    "import pandas as pd\n",
    "import numpy as np\n",
    "from imblearn.over_sampling import SMOTE\n",
    "from sklearn.dummy import DummyClassifier\n",
    "from sklearn.tree import DecisionTreeClassifier\n",
    "from sklearn.neighbors import KNeighborsClassifier\n",
    "from sklearn.ensemble import RandomForestClassifier\n",
    "from sklearn.ensemble import AdaBoostClassifier\n",
    "from sklearn.model_selection import GridSearchCV\n",
    "from sklearn.model_selection import KFold\n",
    "from sklearn.model_selection import cross_validate"
   ]
  },
  {
   "cell_type": "code",
   "execution_count": 140,
   "metadata": {},
   "outputs": [],
   "source": [
    "dataset = pd.read_json(\"clean_dataset.json\")\n",
    "\n",
    "SEED = 0\n",
    "np.random.seed(SEED)"
   ]
  },
  {
   "cell_type": "markdown",
   "metadata": {},
   "source": [
    "### Reajustando o dataset para o modelo de ML\n",
    "---"
   ]
  },
  {
   "cell_type": "code",
   "execution_count": 141,
   "metadata": {},
   "outputs": [],
   "source": [
    "# Categoria Desnecessária\n",
    "dataset = dataset.drop([\"ID\", \"custo_ate_entao\"], axis = 1)\n",
    "\n",
    "# Mudando para 0s e 1s\n",
    "dataset = dataset.replace(['Sim', 'Nao'], [1, 0])\n",
    "dataset = dataset.replace(['Sem Servico Internet', 'Sem Servico Telefone'], [0, 0])\n",
    "dataset = dataset.replace(['Masculino', 'Feminino'], [1, 0])\n",
    "\n",
    "# Aplicando Encoding nos outros dados\n",
    "dataset = pd.get_dummies(data = dataset, columns = ['servico_internet', 'tipo_contrato', 'forma_pagamento'])\n",
    "dataset = dataset.drop([\"servico_internet_0\"], axis=1)"
   ]
  },
  {
   "cell_type": "markdown",
   "metadata": {},
   "source": [
    "### Analisando o Churn\n",
    "---"
   ]
  },
  {
   "cell_type": "code",
   "execution_count": 142,
   "metadata": {},
   "outputs": [
    {
     "data": {
      "text/plain": [
       "((1869, 26), (5174, 26))"
      ]
     },
     "execution_count": 142,
     "metadata": {},
     "output_type": "execute_result"
    }
   ],
   "source": [
    "dataset.query(\"deixou_empresa == 1\").shape, dataset.query(\"deixou_empresa == 0\").shape"
   ]
  },
  {
   "cell_type": "markdown",
   "metadata": {},
   "source": [
    "##### Como já verificado posteriormente, temos uma discrepência a respeito da taxa de churn. Mais pessoas escolheram permanecer assinando o serviço do que desistir do mesmo, o que pode gerar problemas em nosso futuro modelo. Vamos aplicar o SMOTE para resolver tal problema."
   ]
  },
  {
   "cell_type": "code",
   "execution_count": 143,
   "metadata": {},
   "outputs": [],
   "source": [
    "x = dataset.drop([\"deixou_empresa\"], axis = 1)\n",
    "y = dataset.deixou_empresa"
   ]
  },
  {
   "cell_type": "code",
   "execution_count": 144,
   "metadata": {},
   "outputs": [],
   "source": [
    "smote = SMOTE()\n",
    "x_new_sample, y_new_sample = smote.fit_resample(x, y)\n",
    "resampled_dataset = pd.concat([x_new_sample, y_new_sample], axis = 1)"
   ]
  },
  {
   "cell_type": "markdown",
   "metadata": {},
   "source": [
    "### Escolhendo Modelos\n",
    "---"
   ]
  },
  {
   "cell_type": "code",
   "execution_count": 145,
   "metadata": {},
   "outputs": [],
   "source": [
    "cross_validation = KFold(n_splits = 10)"
   ]
  },
  {
   "cell_type": "code",
   "execution_count": 146,
   "metadata": {},
   "outputs": [],
   "source": [
    "def valida_modelo(modelo):\n",
    "    result = cross_validate(modelo, x_new_sample, y_new_sample, cv=cross_validation, \n",
    "                              scoring=['accuracy', 'precision', 'recall', 'f1'])\n",
    "    print(f'\\nModelo: {modelo}')\n",
    "    print(f\"A acurácia do modelo é {result['test_accuracy'].mean() * 100 :.2f} %\")\n",
    "    print(f\"A precisão do modelo é {result['test_precision'].mean() * 100 :.2f} %\")\n",
    "    print(f\"O recall do modelo é {result['test_recall'].mean() * 100 :.2f} %\")\n",
    "    print(f\"O f1 do modelo é {result['test_f1'].mean() * 100 :.2f} %\")"
   ]
  },
  {
   "cell_type": "markdown",
   "metadata": {},
   "source": [
    "##### Iniciando pela Baseline"
   ]
  },
  {
   "cell_type": "code",
   "execution_count": 147,
   "metadata": {},
   "outputs": [
    {
     "name": "stdout",
     "output_type": "stream",
     "text": [
      "\n",
      "Modelo: DummyClassifier()\n",
      "A acurácia do modelo é 20.01 %\n",
      "A precisão do modelo é 20.01 %\n",
      "O recall do modelo é 70.00 %\n",
      "O f1 do modelo é 30.99 %\n"
     ]
    }
   ],
   "source": [
    "dummy = DummyClassifier()\n",
    "valida_modelo(dummy)\n"
   ]
  },
  {
   "cell_type": "markdown",
   "metadata": {},
   "source": [
    "##### Testando Quatro Modelos Diferentes de ML"
   ]
  },
  {
   "cell_type": "code",
   "execution_count": 148,
   "metadata": {},
   "outputs": [
    {
     "name": "stdout",
     "output_type": "stream",
     "text": [
      "\n",
      "Modelo: KNeighborsClassifier()\n",
      "A acurácia do modelo é 79.73 %\n",
      "A precisão do modelo é 66.57 %\n",
      "O recall do modelo é 89.61 %\n",
      "O f1 do modelo é 74.76 %\n",
      "\n",
      "Modelo: DecisionTreeClassifier()\n",
      "A acurácia do modelo é 80.59 %\n",
      "A precisão do modelo é 68.63 %\n",
      "O recall do modelo é 72.64 %\n",
      "O f1 do modelo é 70.33 %\n",
      "\n",
      "Modelo: RandomForestClassifier()\n",
      "A acurácia do modelo é 84.71 %\n",
      "A precisão do modelo é 73.60 %\n",
      "O recall do modelo é 76.78 %\n",
      "O f1 do modelo é 75.07 %\n",
      "\n",
      "Modelo: AdaBoostClassifier()\n",
      "A acurácia do modelo é 82.18 %\n",
      "A precisão do modelo é 70.73 %\n",
      "O recall do modelo é 79.20 %\n",
      "O f1 do modelo é 74.24 %\n"
     ]
    }
   ],
   "source": [
    "knn_model = KNeighborsClassifier()\n",
    "tree_model = DecisionTreeClassifier()\n",
    "bagging_model = RandomForestClassifier()\n",
    "boosting_model = AdaBoostClassifier()\n",
    "\n",
    "valida_modelo(knn_model)\n",
    "valida_modelo(tree_model)\n",
    "valida_modelo(bagging_model)\n",
    "valida_modelo(boosting_model)"
   ]
  },
  {
   "cell_type": "markdown",
   "metadata": {},
   "source": [
    "##### Os algoritmos de árvore de decisão que fazem uso do ensambled learning apresentam uma performance acima do algoritmo padrão, logo, o DecisionTreeClassifier será desconsiderado."
   ]
  },
  {
   "cell_type": "markdown",
   "metadata": {},
   "source": [
    "##### Em relação a precisão e assertividade dos modelos, o KNN apresenta o melhor recall, o AdaBoost tem um resultado mais mediano e o RandomForest apresenta a melhor precisão. Como o f1 de todos é similar, vamos tentar otimizar os modelos e observar os resultados"
   ]
  },
  {
   "cell_type": "markdown",
   "metadata": {},
   "source": [
    "### Otimizando os Hiperparâmetros\n",
    "---"
   ]
  },
  {
   "cell_type": "markdown",
   "metadata": {},
   "source": [
    "##### Usando o GridSearchCV para Otimização"
   ]
  },
  {
   "cell_type": "code",
   "execution_count": 165,
   "metadata": {},
   "outputs": [
    {
     "name": "stdout",
     "output_type": "stream",
     "text": [
      "KNeighborsClassifier(algorithm='ball_tree', p=1, weights='distance')\n"
     ]
    }
   ],
   "source": [
    "# KNN\n",
    "parameters_dictionary = {\n",
    "    \"n_neighbors\": [5, 10, 20],\n",
    "    \"weights\": ['uniform', 'distance'],\n",
    "    \"algorithm\": ['ball_tree', 'kd_tree', 'brute', 'auto'],\n",
    "    \"p\": [1, 2]\n",
    "}\n",
    "\n",
    "search = GridSearchCV(KNeighborsClassifier(), parameters_dictionary, cv=cross_validation, n_jobs=-1)\n",
    "search.fit(x_new_sample, y_new_sample)\n",
    "print(search.best_estimator_)"
   ]
  },
  {
   "cell_type": "code",
   "execution_count": 157,
   "metadata": {},
   "outputs": [
    {
     "name": "stdout",
     "output_type": "stream",
     "text": [
      "RandomForestClassifier(bootstrap=False, max_depth=10, min_samples_split=5,\n",
      "                       n_estimators=150)\n"
     ]
    }
   ],
   "source": [
    "# Random Forest\n",
    "parameters_dictionary = {\n",
    "    \"n_estimators\": [50, 100, 150, 200],\n",
    "    \"criterion\": [\"gini\", \"entropy\", \"log_loss\"], \n",
    "    \"max_features\": [\"sqrt\", \"log2\"],\n",
    "    \"max_depth\": [5, 10], \n",
    "    \"min_samples_split\": [5, 10],\n",
    "    \"bootstrap\": [True, False]\n",
    "}\n",
    "\n",
    "search = GridSearchCV(RandomForestClassifier(), parameters_dictionary, cv=cross_validation, n_jobs=-1)\n",
    "search.fit(x_new_sample, y_new_sample)\n",
    "print(search.best_estimator_)"
   ]
  },
  {
   "cell_type": "code",
   "execution_count": 166,
   "metadata": {},
   "outputs": [
    {
     "name": "stdout",
     "output_type": "stream",
     "text": [
      "AdaBoostClassifier(n_estimators=200)\n"
     ]
    }
   ],
   "source": [
    "# Ada Boost\n",
    "parameters_dictionary = {\n",
    "    \"n_estimators\": [50, 100, 150, 200],\n",
    "    \"algorithm\": [\"SAMME\", \"SAMME.R\"],\n",
    "    \n",
    "}\n",
    "\n",
    "search = GridSearchCV(AdaBoostClassifier(), parameters_dictionary, cv=cross_validation, n_jobs=-1)\n",
    "search.fit(x_new_sample, y_new_sample)\n",
    "print(search.best_estimator_)"
   ]
  },
  {
   "cell_type": "code",
   "execution_count": 159,
   "metadata": {},
   "outputs": [
    {
     "name": "stdout",
     "output_type": "stream",
     "text": [
      "\n",
      "Modelo: KNeighborsClassifier(algorithm='ball_tree', p=1, weights='distance')\n",
      "A acurácia do modelo é 82.13 %\n",
      "A precisão do modelo é 68.32 %\n",
      "O recall do modelo é 91.00 %\n",
      "O f1 do modelo é 76.73 %\n",
      "\n",
      "Modelo: RandomForestClassifier(bootstrap=False, max_depth=10, min_samples_split=5,\n",
      "                       n_estimators=150)\n",
      "A acurácia do modelo é 83.77 %\n",
      "A precisão do modelo é 71.57 %\n",
      "O recall do modelo é 81.77 %\n",
      "O f1 do modelo é 75.91 %\n",
      "\n",
      "Modelo: AdaBoostClassifier(n_estimators=200)\n",
      "A acurácia do modelo é 83.64 %\n",
      "A precisão do modelo é 72.28 %\n",
      "O recall do modelo é 77.95 %\n",
      "O f1 do modelo é 74.77 %\n"
     ]
    }
   ],
   "source": [
    "knn_model = KNeighborsClassifier(algorithm='ball_tree', p=1, weights='distance')\n",
    "bagging_model = RandomForestClassifier(bootstrap=False, max_depth=10, min_samples_split=5, n_estimators=150)\n",
    "boosting_model = AdaBoostClassifier(n_estimators=200)\n",
    "\n",
    "valida_modelo(knn_model)\n",
    "valida_modelo(bagging_model)\n",
    "valida_modelo(boosting_model)"
   ]
  },
  {
   "cell_type": "markdown",
   "metadata": {},
   "source": [
    "### Conclusão\n",
    "---"
   ]
  },
  {
   "cell_type": "markdown",
   "metadata": {},
   "source": [
    "##### Analisando a otimização básica de três modelos, podemos chegar as seguintes conclusões:"
   ]
  },
  {
   "cell_type": "markdown",
   "metadata": {},
   "source": [
    "##### 1 - O modelo KNN apresenta o melhor desempenho geral, com F1 de 76% e recall acima de 90%"
   ]
  },
  {
   "cell_type": "markdown",
   "metadata": {},
   "source": [
    "##### 2 - O modelo Ada Boosting apresenta a melhor precisão dos modelos, com 72%"
   ]
  },
  {
   "cell_type": "markdown",
   "metadata": {},
   "source": [
    "##### Tudo então, irá depender dos recursos disponíveis a empresa, e quão disposta a mesma está a investir nesses resultados. Se a empresa não tiver recursos suficientes para buscar analisar a situação de cada um dos clientes indicados pelo modelo, um bom recall seria desejável, mesmo a custo da precisão. No entanto, caso o objetivo seja somente atingir o máximo de clientes possível, o Ada Boosting se mostra mais promissor."
   ]
  }
 ],
 "metadata": {
  "kernelspec": {
   "display_name": "Python 3.8.10 64-bit",
   "language": "python",
   "name": "python3"
  },
  "language_info": {
   "codemirror_mode": {
    "name": "ipython",
    "version": 3
   },
   "file_extension": ".py",
   "mimetype": "text/x-python",
   "name": "python",
   "nbconvert_exporter": "python",
   "pygments_lexer": "ipython3",
   "version": "3.8.10"
  },
  "orig_nbformat": 4,
  "vscode": {
   "interpreter": {
    "hash": "916dbcbb3f70747c44a77c7bcd40155683ae19c65e1c03b4aa3499c5328201f1"
   }
  }
 },
 "nbformat": 4,
 "nbformat_minor": 2
}
