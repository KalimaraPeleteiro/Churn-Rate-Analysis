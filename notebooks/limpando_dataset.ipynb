{
 "cells": [
  {
   "cell_type": "markdown",
   "metadata": {},
   "source": [
    "# Limpando o Dataset\n"
   ]
  },
  {
   "cell_type": "markdown",
   "metadata": {},
   "source": [
    "---"
   ]
  },
  {
   "cell_type": "markdown",
   "metadata": {},
   "source": [
    "### Importando o Pandas e ajustando configurações"
   ]
  },
  {
   "cell_type": "code",
   "execution_count": 1,
   "metadata": {},
   "outputs": [],
   "source": [
    "import pandas as pd\n",
    "pd.set_option('display.max_columns', 100)"
   ]
  },
  {
   "cell_type": "markdown",
   "metadata": {},
   "source": [
    "### Lendo o JSON e separando os conteúdos"
   ]
  },
  {
   "cell_type": "code",
   "execution_count": 2,
   "metadata": {},
   "outputs": [],
   "source": [
    "dataset = pd.read_json(\"dataset.json\")\n",
    "\n",
    "customer_data = pd.json_normalize(data=dataset.customer)\n",
    "phone_data = pd.json_normalize(data=dataset.phone)\n",
    "internet_data = pd.json_normalize(data=dataset.internet)\n",
    "account_data = pd.json_normalize(data=dataset.account, sep='_')"
   ]
  },
  {
   "cell_type": "markdown",
   "metadata": {},
   "source": [
    "### Unindo os conteúdos e deletando as colunas originais"
   ]
  },
  {
   "cell_type": "code",
   "execution_count": 3,
   "metadata": {},
   "outputs": [],
   "source": [
    "dataset = pd.concat([dataset, customer_data, phone_data, internet_data, account_data], axis=1)\n",
    "\n",
    "del dataset['customer']\n",
    "del dataset['phone']\n",
    "del dataset['internet']\n",
    "del dataset['account']"
   ]
  },
  {
   "cell_type": "markdown",
   "metadata": {},
   "source": [
    "### Retirando valores inválidos e Mudando os tipos dos valores\n",
    "\n"
   ]
  },
  {
   "cell_type": "code",
   "execution_count": 4,
   "metadata": {},
   "outputs": [],
   "source": [
    "idx = dataset[dataset['Charges_Total'] == ' '].index\n",
    "dataset.loc[idx, \"Charges_Total\"] = dataset.loc[idx, \"Charges_Monthly\"]\n",
    "\n",
    "dataset = dataset[dataset['Churn']!= '']\n",
    "dataset.reset_index(drop=True, inplace=True)"
   ]
  },
  {
   "cell_type": "markdown",
   "metadata": {},
   "source": [
    "### Traduzindo colunas e valores (Extra)"
   ]
  },
  {
   "cell_type": "code",
   "execution_count": 5,
   "metadata": {},
   "outputs": [],
   "source": [
    "new_columns = {\"customerID\": \"ID\", \n",
    "               \"Churn\": \"deixou_empresa\",\n",
    "               \"gender\": \"genero\",\n",
    "               \"SeniorCitizen\": \"idoso\",\n",
    "               \"Partner\": \"em_relacionamento\",\n",
    "               \"Dependents\":\"dependentes\",\n",
    "               \"tenure\": \"meses_contratado\",\n",
    "               \"PhoneService\": \"servico_telefone\",\n",
    "               \"MultipleLines\": \"varias_linhas_telefone\",\n",
    "               \"InternetService\": \"servico_internet\",\n",
    "               \"OnlineSecurity\": \"servico_seguranca_online\",\n",
    "               \"OnlineBackup\": \"servico_backup_online\",\n",
    "               \"DeviceProtection\": \"servico_protecao\",\n",
    "               \"TechSupport\": \"servico_suporte_tecnico\",\n",
    "               \"StreamingTV\": \"servico_tv_a_cabo\",\n",
    "               \"StreamingMovies\": \"servico_streaming\",\n",
    "               \"Contract\": \"tipo_contrato\",\n",
    "               \"PaperlessBilling\": \"pagamento_online\",\n",
    "               \"PaymentMethod\": \"forma_pagamento\",\n",
    "               \"Charges_Monthly\": \"custo_mensal\",\n",
    "               \"Charges_Total\": \"custo_ate_entao\"}\n",
    "dataset = dataset.rename(columns=new_columns)\n",
    "\n",
    "dataset = dataset.replace(['Yes', 'No'], ['Sim', 'Nao'])\n",
    "dataset = dataset.replace(['Male', 'Female'], ['Masculino', 'Feminino'])\n",
    "dataset = dataset.replace(['No phone service'], 'Sem Servico Telefone')\n",
    "dataset = dataset.replace(['No internet service'], 'Sem Servico Internet')\n",
    "dataset = dataset.replace(['Fiber optic'], 'Fibra Optica')\n",
    "dataset = dataset.replace(['One year', \"Month-to-month\", \"Two year\"], ['Anual', 'Mensal', 'Bienal'])\n",
    "dataset = dataset.replace(['Mailed check', 'Electronic check'], ['Cheque por Email', 'Cheque Eletronico'])\n",
    "dataset = dataset.replace(['Credit card (automatic)'], ['Cartao de Credito (auto)'])\n",
    "dataset = dataset.replace(['Bank transfer (automatic)'], ['Transferencia Bancaria (auto)'])"
   ]
  },
  {
   "cell_type": "markdown",
   "metadata": {},
   "source": [
    "### Criando nova coluna - Custo Diário (Extra)"
   ]
  },
  {
   "cell_type": "code",
   "execution_count": 6,
   "metadata": {},
   "outputs": [],
   "source": [
    "dataset['custo_diario'] = dataset.custo_mensal/30\n",
    "new_columns = ['ID', 'deixou_empresa', 'genero', 'idoso', 'em_relacionamento',\n",
    "       'dependentes', 'meses_contratado', 'servico_telefone',\n",
    "       'varias_linhas_telefone', 'servico_internet',\n",
    "       'servico_seguranca_online', 'servico_backup_online', 'servico_protecao',\n",
    "       'servico_suporte_tecnico', 'servico_tv_a_cabo', 'servico_streaming',\n",
    "       'tipo_contrato', 'pagamento_online', 'forma_pagamento', 'custo_diario', 'custo_mensal',\n",
    "       'custo_ate_entao']\n",
    "dataset = dataset.reindex(columns=new_columns)"
   ]
  }
 ],
 "metadata": {
  "interpreter": {
   "hash": "916dbcbb3f70747c44a77c7bcd40155683ae19c65e1c03b4aa3499c5328201f1"
  },
  "kernelspec": {
   "display_name": "Python 3.8.10 64-bit",
   "language": "python",
   "name": "python3"
  },
  "language_info": {
   "codemirror_mode": {
    "name": "ipython",
    "version": 3
   },
   "file_extension": ".py",
   "mimetype": "text/x-python",
   "name": "python",
   "nbconvert_exporter": "python",
   "pygments_lexer": "ipython3",
   "version": "3.8.10"
  },
  "orig_nbformat": 4
 },
 "nbformat": 4,
 "nbformat_minor": 2
}
